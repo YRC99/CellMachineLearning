{
 "cells": [
  {
   "cell_type": "markdown",
   "metadata": {},
   "source": [
    "# Imports\n"
   ]
  },
  {
   "cell_type": "code",
   "execution_count": 1,
   "metadata": {},
   "outputs": [
    {
     "name": "stdout",
     "output_type": "stream",
     "text": [
      "Running Scanpy 1.8.2, on 2021-12-02 11:42.\n"
     ]
    }
   ],
   "source": [
    "import anndata\n",
    "import scanpy as sc\n",
    "import sfaira\n",
    "sc.logging.print_version_and_date()\n",
    "sc.settings.verbosity = 0\n",
    "sc.set_figure_params()\n"
   ]
  },
  {
   "cell_type": "markdown",
   "metadata": {},
   "source": [
    "# Actual Code"
   ]
  },
  {
   "cell_type": "code",
   "execution_count": 2,
   "metadata": {},
   "outputs": [],
   "source": [
    "def ui_adata(adata, model_name) -> 'adata':\n",
    "   ui = sfaira.ui.UserInterface(sfaira_repo=True)\n",
    "   ui.zoo_celltype.model_id = model_name\n",
    "   ui.load_data(adata, gene_symbol_col='index')\n",
    "   ui.load_model_celltype()\n",
    "   ui.predict_celltype()\n",
    "   if \"X_umap\" not in ui.data.adata.obsm.keys():\n",
    "      sc.pp.normalize_total(ui.data.adata)\n",
    "      sc.pp.log1p(ui.data.adata)\n",
    "      sc.pp.pca(ui.data.adata)\n",
    "      sc.pp.neighbors(ui.data.adata)\n",
    "      sc.tl.umap(ui.data.adata)\n",
    "   return ui.data.adata\n",
    "\n",
    "\n",
    "def ui(x: str) -> 'Dict':\n",
    "   \"\"\"\n",
    "   :param x: is path to object\n",
    "   :returns: dictionary of UMAP and cell type labels\n",
    "   \"\"\"\n",
    "   # TODO add switch over different data representations form reading functions here: https://scanpy.readthedocs.io/en/stable/api.html#reading\n",
    "   model_name = 'celltype_human-blood-mlp-0.1.3-0.1_theislab'  # hard coded model name\n",
    "   adata = ui_adata(x, model_name=model_name)\n",
    "   return {\"umap\": adata.obsm[\"X_umap\"], \"cell_type\": adata.obs.loc[:, \"celltype\"]}\n"
   ]
  },
  {
   "cell_type": "markdown",
   "metadata": {},
   "source": [
    "# Execution"
   ]
  },
  {
   "cell_type": "code",
   "execution_count": 3,
   "metadata": {},
   "outputs": [],
   "source": [
    "result=ui(anndata.read_h5ad('./pbmc_multimodal.h5ad'))"
   ]
  },
  {
   "cell_type": "code",
   "execution_count": null,
   "metadata": {},
   "outputs": [
    {
     "ename": "Error",
     "evalue": "Session cannot generate requests",
     "output_type": "error",
     "traceback": [
      "Error: Session cannot generate requests",
      "at S.executeCodeCell (/home/yrc/.vscode-server/extensions/ms-toolsai.jupyter-2021.10.1101450599/out/client/extension.js:66:301742)",
      "at S.execute (/home/yrc/.vscode-server/extensions/ms-toolsai.jupyter-2021.10.1101450599/out/client/extension.js:66:300732)",
      "at S.start (/home/yrc/.vscode-server/extensions/ms-toolsai.jupyter-2021.10.1101450599/out/client/extension.js:66:296408)",
      "at processTicksAndRejections (internal/process/task_queues.js:93:5)",
      "at async t.CellExecutionQueue.executeQueuedCells (/home/yrc/.vscode-server/extensions/ms-toolsai.jupyter-2021.10.1101450599/out/client/extension.js:66:312326)",
      "at async t.CellExecutionQueue.start (/home/yrc/.vscode-server/extensions/ms-toolsai.jupyter-2021.10.1101450599/out/client/extension.js:66:311862)"
     ]
    }
   ],
   "source": [
    "print(result.shape)"
   ]
  }
 ],
 "metadata": {
  "interpreter": {
   "hash": "5865cc53dc1011e62ac625d2b2cdb51438fa37126506e6c30203d699e51b3c2b"
  },
  "kernelspec": {
   "display_name": "Python 3.6.8rc1 64-bit",
   "language": "python",
   "name": "python3"
  },
  "language_info": {
   "codemirror_mode": {
    "name": "ipython",
    "version": 3
   },
   "file_extension": ".py",
   "mimetype": "text/x-python",
   "name": "python",
   "nbconvert_exporter": "python",
   "pygments_lexer": "ipython3",
   "version": "3.8.8"
  },
  "orig_nbformat": 4
 },
 "nbformat": 4,
 "nbformat_minor": 2
}
