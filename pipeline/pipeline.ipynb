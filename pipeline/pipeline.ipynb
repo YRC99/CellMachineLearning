{
 "cells": [
  {
   "cell_type": "markdown",
   "metadata": {},
   "source": [
    "# Imports\n"
   ]
  },
  {
   "cell_type": "code",
   "execution_count": 4,
   "metadata": {},
   "outputs": [
    {
     "name": "stdout",
     "output_type": "stream",
     "text": [
      "Running Scanpy 1.8.2, on 2021-11-27 20:51.\n"
     ]
    }
   ],
   "source": [
    "import anndata\n",
    "import scanpy as sc\n",
    "import sfaira\n",
    "sc.logging.print_version_and_date()\n",
    "sc.settings.verbosity = 0\n",
    "sc.set_figure_params()\n"
   ]
  },
  {
   "cell_type": "markdown",
   "metadata": {},
   "source": [
    "# Actual Code"
   ]
  },
  {
   "cell_type": "code",
   "execution_count": 12,
   "metadata": {},
   "outputs": [],
   "source": [
    "def ui_adata(adata, model_name) -> 'adata':\n",
    "   ui = sfaira.ui.UserInterface(sfaira_repo=True)\n",
    "   ui.zoo_celltype.model_id = model_name\n",
    "   ui.load_data(adata, gene_symbol_col='index')\n",
    "   ui.load_model_celltype()\n",
    "   ui.predict_celltype()\n",
    "   if \"X_umap\" not in ui.data.adata.obsm.keys():\n",
    "      sc.pp.normalize_total(ui.data.adata)\n",
    "      sc.pp.log1p(ui.data.adata)\n",
    "      sc.pp.pca(ui.data.adata)\n",
    "      sc.pp.neighbors(ui.data.adata)\n",
    "      sc.tl.umap(ui.data.adata)\n",
    "   return ui.data.adata\n",
    "\n",
    "\n",
    "def ui(x: str) -> 'Dict':\n",
    "   \"\"\"\n",
    "   :param x: is path to object\n",
    "   :returns: dictionary of UMAP and cell type labels\n",
    "   \"\"\"\n",
    "   # TODO add switch over different data representations form reading functions here: https://scanpy.readthedocs.io/en/stable/api.html#reading\n",
    "   model_name = 'celltype_human-blood-mlp-0.1.3-0.1_theislab'\n",
    "   # hard coded model name\n",
    "   adata = ui_adata(x, model_name=model_name)\n",
    "   return {\"umap\": adata.obsm[\"X_umap\"], \"cell_type\": adata.obs.loc[:, \"celltype\"]}\n"
   ]
  },
  {
   "cell_type": "markdown",
   "metadata": {},
   "source": [
    "# Load Sample Data"
   ]
  },
  {
   "cell_type": "code",
   "execution_count": 13,
   "metadata": {},
   "outputs": [
    {
     "ename": "AssertionError",
     "evalue": "set model_id first",
     "output_type": "error",
     "traceback": [
      "\u001b[0;31m---------------------------------------------------------------------------\u001b[0m",
      "\u001b[0;31mAssertionError\u001b[0m                            Traceback (most recent call last)",
      "\u001b[0;32m<ipython-input-13-b03be4a56707>\u001b[0m in \u001b[0;36m<module>\u001b[0;34m\u001b[0m\n\u001b[0;32m----> 1\u001b[0;31m \u001b[0mui\u001b[0m\u001b[0;34m(\u001b[0m\u001b[0;34m'./pbmc_multimodal.h5ad'\u001b[0m\u001b[0;34m)\u001b[0m\u001b[0;34m\u001b[0m\u001b[0;34m\u001b[0m\u001b[0m\n\u001b[0m",
      "\u001b[0;32m<ipython-input-12-cdc3a22389a1>\u001b[0m in \u001b[0;36mui\u001b[0;34m(x)\u001b[0m\n\u001b[1;32m     22\u001b[0m    \u001b[0mmodel_name\u001b[0m \u001b[0;34m=\u001b[0m \u001b[0;34m'celltype_human-blood-mlp-0.1.3-0.1_theislab'\u001b[0m\u001b[0;34m\u001b[0m\u001b[0;34m\u001b[0m\u001b[0m\n\u001b[1;32m     23\u001b[0m    \u001b[0;31m# hard coded model name\u001b[0m\u001b[0;34m\u001b[0m\u001b[0;34m\u001b[0m\u001b[0;34m\u001b[0m\u001b[0m\n\u001b[0;32m---> 24\u001b[0;31m    \u001b[0madata\u001b[0m \u001b[0;34m=\u001b[0m \u001b[0mui_adata\u001b[0m\u001b[0;34m(\u001b[0m\u001b[0mx\u001b[0m\u001b[0;34m,\u001b[0m \u001b[0mmodel_name\u001b[0m\u001b[0;34m=\u001b[0m\u001b[0mmodel_name\u001b[0m\u001b[0;34m)\u001b[0m\u001b[0;34m\u001b[0m\u001b[0;34m\u001b[0m\u001b[0m\n\u001b[0m\u001b[1;32m     25\u001b[0m    \u001b[0;32mreturn\u001b[0m \u001b[0;34m{\u001b[0m\u001b[0;34m\"umap\"\u001b[0m\u001b[0;34m:\u001b[0m \u001b[0madata\u001b[0m\u001b[0;34m.\u001b[0m\u001b[0mobsm\u001b[0m\u001b[0;34m[\u001b[0m\u001b[0;34m\"X_umap\"\u001b[0m\u001b[0;34m]\u001b[0m\u001b[0;34m,\u001b[0m \u001b[0;34m\"cell_type\"\u001b[0m\u001b[0;34m:\u001b[0m \u001b[0madata\u001b[0m\u001b[0;34m.\u001b[0m\u001b[0mobs\u001b[0m\u001b[0;34m.\u001b[0m\u001b[0mloc\u001b[0m\u001b[0;34m[\u001b[0m\u001b[0;34m:\u001b[0m\u001b[0;34m,\u001b[0m \u001b[0;34m\"celltype\"\u001b[0m\u001b[0;34m]\u001b[0m\u001b[0;34m}\u001b[0m\u001b[0;34m\u001b[0m\u001b[0;34m\u001b[0m\u001b[0m\n",
      "\u001b[0;32m<ipython-input-12-cdc3a22389a1>\u001b[0m in \u001b[0;36mui_adata\u001b[0;34m(adata, model_name)\u001b[0m\n\u001b[1;32m      2\u001b[0m    \u001b[0mui\u001b[0m \u001b[0;34m=\u001b[0m \u001b[0msfaira\u001b[0m\u001b[0;34m.\u001b[0m\u001b[0mui\u001b[0m\u001b[0;34m.\u001b[0m\u001b[0mUserInterface\u001b[0m\u001b[0;34m(\u001b[0m\u001b[0msfaira_repo\u001b[0m\u001b[0;34m=\u001b[0m\u001b[0;32mTrue\u001b[0m\u001b[0;34m)\u001b[0m\u001b[0;34m\u001b[0m\u001b[0;34m\u001b[0m\u001b[0m\n\u001b[1;32m      3\u001b[0m    \u001b[0mui\u001b[0m\u001b[0;34m.\u001b[0m\u001b[0mzoo_celltype\u001b[0m\u001b[0;34m.\u001b[0m\u001b[0mmodel_id\u001b[0m \u001b[0;34m=\u001b[0m \u001b[0mmodel_name\u001b[0m\u001b[0;34m\u001b[0m\u001b[0;34m\u001b[0m\u001b[0m\n\u001b[0;32m----> 4\u001b[0;31m    \u001b[0mui\u001b[0m\u001b[0;34m.\u001b[0m\u001b[0mload_data\u001b[0m\u001b[0;34m(\u001b[0m\u001b[0madata\u001b[0m\u001b[0;34m,\u001b[0m \u001b[0mgene_symbol_col\u001b[0m\u001b[0;34m=\u001b[0m\u001b[0;34m'index'\u001b[0m\u001b[0;34m)\u001b[0m\u001b[0;34m\u001b[0m\u001b[0;34m\u001b[0m\u001b[0m\n\u001b[0m\u001b[1;32m      5\u001b[0m    \u001b[0mui\u001b[0m\u001b[0;34m.\u001b[0m\u001b[0mload_model_celltype\u001b[0m\u001b[0;34m(\u001b[0m\u001b[0;34m)\u001b[0m\u001b[0;34m\u001b[0m\u001b[0;34m\u001b[0m\u001b[0m\n\u001b[1;32m      6\u001b[0m    \u001b[0mui\u001b[0m\u001b[0;34m.\u001b[0m\u001b[0mpredict_celltype\u001b[0m\u001b[0;34m(\u001b[0m\u001b[0;34m)\u001b[0m\u001b[0;34m\u001b[0m\u001b[0;34m\u001b[0m\u001b[0m\n",
      "\u001b[0;32m~/.local/lib/python3.8/site-packages/sfaira/ui/user_interface.py\u001b[0m in \u001b[0;36mload_data\u001b[0;34m(self, data, gene_symbol_col, gene_ens_col, obs_key_celltypes)\u001b[0m\n\u001b[1;32m    357\u001b[0m         \u001b[0;34m:\u001b[0m\u001b[0mparam\u001b[0m \u001b[0mobs_key_celltypes\u001b[0m\u001b[0;34m:\u001b[0m \u001b[0;34m.\u001b[0m\u001b[0mobs\u001b[0m \u001b[0mcolumn\u001b[0m \u001b[0mname\u001b[0m \u001b[0mwhich\u001b[0m \u001b[0mcontains\u001b[0m \u001b[0mcell\u001b[0m \u001b[0mtype\u001b[0m \u001b[0mlabels\u001b[0m\u001b[0;34m.\u001b[0m\u001b[0;34m\u001b[0m\u001b[0;34m\u001b[0m\u001b[0m\n\u001b[1;32m    358\u001b[0m         \"\"\"\n\u001b[0;32m--> 359\u001b[0;31m         \u001b[0;32mif\u001b[0m \u001b[0mself\u001b[0m\u001b[0;34m.\u001b[0m\u001b[0mzoo_embedding\u001b[0m\u001b[0;34m.\u001b[0m\u001b[0mmodel_organism\u001b[0m \u001b[0;32mis\u001b[0m \u001b[0;32mnot\u001b[0m \u001b[0;32mNone\u001b[0m \u001b[0;32mand\u001b[0m \u001b[0mself\u001b[0m\u001b[0;34m.\u001b[0m\u001b[0mzoo_celltype\u001b[0m\u001b[0;34m.\u001b[0m\u001b[0mmodel_organism\u001b[0m \u001b[0;32mis\u001b[0m \u001b[0;32mnot\u001b[0m \u001b[0;32mNone\u001b[0m\u001b[0;34m:\u001b[0m\u001b[0;34m\u001b[0m\u001b[0;34m\u001b[0m\u001b[0m\n\u001b[0m\u001b[1;32m    360\u001b[0m             \u001b[0;32massert\u001b[0m \u001b[0mself\u001b[0m\u001b[0;34m.\u001b[0m\u001b[0mzoo_embedding\u001b[0m\u001b[0;34m.\u001b[0m\u001b[0mmodel_organism\u001b[0m \u001b[0;34m==\u001b[0m \u001b[0mself\u001b[0m\u001b[0;34m.\u001b[0m\u001b[0mzoo_celltype\u001b[0m\u001b[0;34m.\u001b[0m\u001b[0mmodel_organism\u001b[0m\u001b[0;34m,\u001b[0m\u001b[0;31m \u001b[0m\u001b[0;31m\\\u001b[0m\u001b[0;34m\u001b[0m\u001b[0;34m\u001b[0m\u001b[0m\n\u001b[1;32m    361\u001b[0m                 \u001b[0;34m\"Model ids set for embedding and celltype model need to correspond to the same organism\"\u001b[0m\u001b[0;34m\u001b[0m\u001b[0;34m\u001b[0m\u001b[0m\n",
      "\u001b[0;32m~/.local/lib/python3.8/site-packages/sfaira/ui/model_zoo.py\u001b[0m in \u001b[0;36mmodel_organism\u001b[0;34m(self)\u001b[0m\n\u001b[1;32m    171\u001b[0m     \u001b[0;32mdef\u001b[0m \u001b[0mmodel_organism\u001b[0m\u001b[0;34m(\u001b[0m\u001b[0mself\u001b[0m\u001b[0;34m)\u001b[0m\u001b[0;34m:\u001b[0m\u001b[0;34m\u001b[0m\u001b[0;34m\u001b[0m\u001b[0m\n\u001b[1;32m    172\u001b[0m         \u001b[0;31m# TODO: this relies on theislab model_name formatting\u001b[0m\u001b[0;34m\u001b[0m\u001b[0;34m\u001b[0m\u001b[0;34m\u001b[0m\u001b[0m\n\u001b[0;32m--> 173\u001b[0;31m         \u001b[0;32massert\u001b[0m \u001b[0mself\u001b[0m\u001b[0;34m.\u001b[0m\u001b[0mmodel_id\u001b[0m \u001b[0;32mis\u001b[0m \u001b[0;32mnot\u001b[0m \u001b[0;32mNone\u001b[0m\u001b[0;34m,\u001b[0m \u001b[0;34m\"set model_id first\"\u001b[0m\u001b[0;34m\u001b[0m\u001b[0;34m\u001b[0m\u001b[0m\n\u001b[0m\u001b[1;32m    174\u001b[0m         return {\n\u001b[1;32m    175\u001b[0m             \u001b[0;34m\"homosapiens\"\u001b[0m\u001b[0;34m:\u001b[0m \u001b[0;34m\"Homo sapiens\"\u001b[0m\u001b[0;34m,\u001b[0m\u001b[0;34m\u001b[0m\u001b[0;34m\u001b[0m\u001b[0m\n",
      "\u001b[0;31mAssertionError\u001b[0m: set model_id first"
     ]
    }
   ],
   "source": [
    "ui('./pbmc_multimodal.h5ad')"
   ]
  }
 ],
 "metadata": {
  "interpreter": {
   "hash": "5865cc53dc1011e62ac625d2b2cdb51438fa37126506e6c30203d699e51b3c2b"
  },
  "kernelspec": {
   "display_name": "Python 3.6.8rc1 64-bit",
   "language": "python",
   "name": "python3"
  },
  "language_info": {
   "codemirror_mode": {
    "name": "ipython",
    "version": 3
   },
   "file_extension": ".py",
   "mimetype": "text/x-python",
   "name": "python",
   "nbconvert_exporter": "python",
   "pygments_lexer": "ipython3",
   "version": "3.8.8"
  },
  "orig_nbformat": 4
 },
 "nbformat": 4,
 "nbformat_minor": 2
}
