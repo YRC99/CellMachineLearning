{
 "cells": [
  {
   "cell_type": "code",
   "execution_count": 1,
   "metadata": {},
   "outputs": [
    {
     "name": "stderr",
     "output_type": "stream",
     "text": [
      "C:\\Users\\Yi Rui Cui\\AppData\\Local\\Programs\\Python\\Python36\\lib\\importlib\\_bootstrap.py:219: RuntimeWarning: numpy.ufunc size changed, may indicate binary incompatibility. Expected 192 from C header, got 216 from PyObject\n",
      "  return f(*args, **kwds)\n",
      "C:\\Users\\Yi Rui Cui\\AppData\\Local\\Programs\\Python\\Python36\\lib\\site-packages\\anndata\\compat\\__init__.py:183: FutureWarning: Moving element from .uns['neighbors']['distances'] to .obsp['distances'].\n",
      "\n",
      "This is where adjacency matrices should go now.\n",
      "  FutureWarning,\n"
     ]
    }
   ],
   "source": [
    "import scanpy\n",
    "\n",
    "adata = scanpy.read_h5ad(\"pbmc_multimodal.h5ad\")\n"
   ]
  },
  {
   "cell_type": "code",
   "execution_count": 2,
   "metadata": {},
   "outputs": [
    {
     "name": "stdout",
     "output_type": "stream",
     "text": [
      "161764\n",
      "20729\n",
      "(161764, 20729)\n",
      "Index(['nCount_ADT', 'nFeature_ADT', 'nCount_RNA', 'nFeature_RNA',\n",
      "       'orig.ident', 'lane', 'donor', 'time', 'celltype.l1', 'celltype.l2',\n",
      "       'celltype.l3', 'Phase', 'nCount_SCT', 'nFeature_SCT'],\n",
      "      dtype='object')\n",
      "Index(['features'], dtype='object')\n"
     ]
    }
   ],
   "source": [
    "#print(adata.X[0])\n",
    "print(len(adata.obs_names.tolist()))\n",
    "print(len(adata.var_names.tolist()))\n",
    "print(adata.shape)\n",
    "print(adata.obs.keys())\n",
    "print(adata.var.keys())\n",
    "#dataframe = adata.to_df()\n",
    "#print(dataframe.head())"
   ]
  },
  {
   "cell_type": "code",
   "execution_count": 4,
   "metadata": {},
   "outputs": [
    {
     "name": "stdout",
     "output_type": "stream",
     "text": [
      "0.24.2\n",
      "Splitting data into training and test set\n"
     ]
    }
   ],
   "source": [
    "import sklearn\n",
    "from sklearn.model_selection import train_test_split\n",
    "from sklearn.datasets import make_classification\n",
    "print(sklearn.__version__)\n",
    "#comparing with test data to see if everything is setup correctly\n",
    "X, y = make_classification(\n",
    "    n_samples=1000, n_features=20, n_informative=15, n_redundant=5, random_state=3)\n",
    "\n",
    "#print(adata.obs)\n",
    "#print(adata.X.shape,adata.obs_names.shape)\n",
    "#print(X.shape,y.shape)\n",
    "print(\"Splitting data into training and test set\")\n",
    "X_train,X_test,y_train,y_test = train_test_split(adata.X,adata.obs_names,test_size=0.3,random_state=42)\n",
    "\n"
   ]
  },
  {
   "cell_type": "code",
   "execution_count": 10,
   "metadata": {},
   "outputs": [
    {
     "name": "stdout",
     "output_type": "stream",
     "text": [
      "shapes of original X and y\t (161764, 20729) (161764,)\n",
      "shapes of test X and y\t (48530, 20729) (48530,)\n",
      "shapes of training X and y\t (113234, 20729) (113234,)\n",
      "Beginning fitting of model\n",
      "Model has been fit, starting prediction\n",
      "Accuracy:\t 0.0\n",
      "F1-Score:\t 0.0\n"
     ]
    }
   ],
   "source": [
    "from sklearn.dummy import DummyClassifier\n",
    "from sklearn.metrics import accuracy_score,f1_score\n",
    "\n",
    "\n",
    "dummy = DummyClassifier( random_state=0,strategy='most_frequent')\n",
    "print(\"shapes of original X and y\\t\",adata.X.shape,adata.obs_names.shape)\n",
    "print(\"shapes of test X and y\\t\",X_test.shape, y_test.shape)\n",
    "print(\"shapes of training X and y\\t\",X_train.shape, y_train.shape)\n",
    "print(\"Beginning fitting of model\")\n",
    "dummy.fit(X_train, y_train)\n",
    "print(\"Model has been fit, starting prediction\")\n",
    "y_pred = dummy.predict(X_test)\n",
    "print(\"Accuracy:\\t\",accuracy_score(y_test,y_pred))\n",
    "print(\"F1-Score:\\t\",f1_score(y_test,y_pred,average='macro'))"
   ]
  },
  {
   "cell_type": "code",
   "execution_count": 11,
   "metadata": {},
   "outputs": [
    {
     "name": "stdout",
     "output_type": "stream",
     "text": [
      "shapes of original X and y\t (161764, 20729) (161764,)\n",
      "shapes of test X and y\t (48530, 20729) (48530,)\n",
      "shapes of training X and y\t (113234, 20729) (113234,)\n",
      "Beginning fitting of model\n"
     ]
    },
    {
     "name": "stderr",
     "output_type": "stream",
     "text": [
      "[Parallel(n_jobs=-1)]: Using backend ThreadingBackend with 6 concurrent workers.\n"
     ]
    },
    {
     "name": "stdout",
     "output_type": "stream",
     "text": [
      "building tree 1 of 1\n"
     ]
    }
   ],
   "source": [
    "from sklearn.ensemble import RandomForestClassifier\n",
    "\n",
    "\n",
    "clf = RandomForestClassifier(\n",
    "    verbose=3, n_estimators=1, n_jobs=-1, random_state=0)\n",
    "print(\"shapes of original X and y\\t\", adata.X.shape, adata.obs_names.shape)\n",
    "print(\"shapes of test X and y\\t\", X_test.shape, y_test.shape)\n",
    "print(\"shapes of training X and y\\t\", X_train.shape, y_train.shape)\n",
    "print(\"Beginning fitting of model\")\n",
    "clf.fit(X_train, y_train)\n",
    "print(\"Model has been fit, starting prediction\")\n",
    "y_pred = clf.predict(X_test)\n",
    "print(\"Accuracy:\\t\", accuracy_score(y_test, y_pred))\n",
    "print(\"F1-Score:\\t\", f1_score(y_test, y_pred, average='macro'))\n"
   ]
  }
 ],
 "metadata": {
  "interpreter": {
   "hash": "5865cc53dc1011e62ac625d2b2cdb51438fa37126506e6c30203d699e51b3c2b"
  },
  "kernelspec": {
   "display_name": "Python 3.6.8rc1 64-bit",
   "language": "python",
   "name": "python3"
  },
  "language_info": {
   "codemirror_mode": {
    "name": "ipython",
    "version": 3
   },
   "file_extension": ".py",
   "mimetype": "text/x-python",
   "name": "python",
   "nbconvert_exporter": "python",
   "pygments_lexer": "ipython3",
   "version": "3.6.8rc1"
  },
  "orig_nbformat": 4
 },
 "nbformat": 4,
 "nbformat_minor": 2
}
